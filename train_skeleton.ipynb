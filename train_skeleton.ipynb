{
 "cells": [
  {
   "cell_type": "code",
   "execution_count": 1,
   "metadata": {},
   "outputs": [],
   "source": [
    "\n",
    "import numpy as np\n",
    "import cv2\n",
    "import os\n",
    "from sklearn.preprocessing import PolynomialFeatures\n",
    "import skimage.measure\n",
    "\n",
    "from sklearn import svm\n",
    "from sklearn.calibration import CalibratedClassifierCV\n",
    "from sklearn.model_selection import train_test_split\n",
    "import matplotlib.pyplot as plt\n",
    "from skimage.feature import hog\n",
    "from sklearn.svm import LinearSVC\n",
    "from sklearn.metrics import accuracy_score\n",
    "import joblib"
   ]
  },
  {
   "cell_type": "code",
   "execution_count": 15,
   "metadata": {},
   "outputs": [],
   "source": [
    "import cv2\n",
    "import joblib\n",
    "from skimage.feature import hog\n",
    "import numpy as np\n",
    "import imutils\n",
    "import skimage.measure\n",
    "from skimage.morphology import opening\n",
    "from skimage.morphology import erosion\n",
    "from matplotlib import pyplot as plt\n",
    "from skimage.morphology import skeletonize\n",
    "from skimage.util import invert\n"
   ]
  },
  {
   "cell_type": "code",
   "execution_count": 82,
   "metadata": {},
   "outputs": [],
   "source": [
    "def dfs(img, mask, i, j):\n",
    "    if i < 0 or j < 0 or i > 31 or j > 31 or mask[i,j] < 0.5 or img[i,j] < 0.5:\n",
    "        return\n",
    "    mask[i,j] = 0\n",
    "    dfs(img, mask, i+1, j)\n",
    "    dfs(img, mask, i, j+1)\n",
    "    dfs(img, mask, i-1, j)\n",
    "    dfs(img, mask, i, j-1)\n",
    "    return\n",
    "\n",
    "def cnt(mask):\n",
    "    x1 = np.sum(mask[0:16, :])\n",
    "    x2 = np.sum(mask[16:32,:])\n",
    "    return x1 / (32.*16), x2 / (32.*16)\n",
    "\n",
    "def count_neighbours(i,j,mat):\n",
    "    m = mat.copy()\n",
    "    m = m[i-1:i+2,j-1:j+2]\n",
    "    kern = np.array([[1,1,1],[1,0,1],[1,1,1]])\n",
    "    prod = sum(sum(m*kern))\n",
    "    return prod\n",
    "def find_highest_dot(skel):\n",
    "    m = skel.copy()\n",
    "    for i in range(m.shape[0]):\n",
    "        for j in range(m.shape[1]):\n",
    "            if m[i][j] == 1:\n",
    "                return j\n",
    "def find_lowest_dot(skel):\n",
    "    m = skel.copy()\n",
    "    for i in range(m.shape[0]-1,-1,-1):\n",
    "        for j in range(m.shape[1]):\n",
    "            if m[i][j] == 1:\n",
    "                return j\n",
    "def find_left_dot(skel):\n",
    "    m = skel.copy()\n",
    "    for j in range(m.shape[1]):\n",
    "        for i in range(m.shape[0]):\n",
    "            if m[i][j] == 1:\n",
    "                return i\n",
    "def find_right_dot(skel):\n",
    "    m = skel.copy()\n",
    "    for j in range(m.shape[1]-1,-1,-1):\n",
    "        for i in range(m.shape[0]):\n",
    "            if m[i][j] == 1:\n",
    "                return i"
   ]
  },
  {
   "cell_type": "code",
   "execution_count": 163,
   "metadata": {},
   "outputs": [],
   "source": [
    "def preProcessing(img):\n",
    "    img = cv2.cvtColor(img, cv2.COLOR_BGR2GRAY)\n",
    "    img = cv2.equalizeHist(img)\n",
    "    img[img > imthr] = 255.\n",
    "    img[img <= imthr] = 0\n",
    "    img[:, 31:32] = 255.\n",
    "    img[31:32, :] = 255.\n",
    "    img[0:1, :] = 255.\n",
    "    img[:, 0:1] = 255.\n",
    "    img = img / 255.\n",
    "    return img\n",
    "\n",
    "\n",
    "def get_feature(img):\n",
    "    cn = np.zeros(9, dtype=float)\n",
    "    inv_img = invert(img)\n",
    "    square = sum(sum(inv_img))\n",
    "    skeleton = skeletonize(inv_img).astype('float64')\n",
    "    for i in range(1,skeleton.shape[0]-1):\n",
    "        for j in range(1, skeleton.shape[1] - 1):\n",
    "            if skeleton[i][j] == 1:\n",
    "                count_n = count_neighbours(i,j,skeleton)\n",
    "                cn[int(count_n)] +=1\n",
    "    #количество точек с числом соседей\n",
    "    #print(img.shape)\n",
    "    skel_length = sum(sum(skeleton))\n",
    "    # b или d (самая верхняя точка ближе к правому или левому краю)\n",
    "    coor_x_h = find_highest_dot(skeleton)\n",
    "    coor_x_l = find_lowest_dot(skeleton)\n",
    "    coor_y_r = find_right_dot(skeleton)\n",
    "    coor_y_l = find_left_dot(skeleton)\n",
    "    #отношение площали к длине\n",
    "    if (skel_length > 1e-3):\n",
    "        sq_len = square/skel_length\n",
    "    else:\n",
    "        sq_len = 0\n",
    "    feature_vector = np.array([coor_x_h,coor_x_l,coor_y_r,coor_y_l,int(10*sq_len)], dtype=float)\n",
    "    feature_vector = np.append(feature_vector,cn)\n",
    "    feature_vector = feature_vector / (32.*32)\n",
    "    mask = np.ones((32,32), dtype = float)\n",
    "    dfs(img,mask,0,0)         \n",
    "    mask[img < 0.5] = 0\n",
    "    x1, x2 = cnt(mask)\n",
    "    feature_vector = np.append(feature_vector, float(x1))\n",
    "    feature_vector = np.append(feature_vector, float(x2))\n",
    "    return feature_vector\n",
    "\n",
    "def extract(features, Y):\n",
    "    list_fd = []\n",
    "    del_ind = list()\n",
    "    #clf = RandomForestClassifier(n_estimators = 100, max_depth=16, verbose = 1)\n",
    "    for feature in features:\n",
    "        img = feature.reshape((32, 32))\n",
    "        fd = get_feature(img)\n",
    "        list_fd.append(fd)\n",
    "    return np.array(list_fd, dtype=float)"
   ]
  },
  {
   "cell_type": "code",
   "execution_count": 4,
   "metadata": {},
   "outputs": [],
   "source": [
    "width = 640\n",
    "height = 480\n",
    "threshold = 0.7\n",
    "imthr = 50"
   ]
  },
  {
   "cell_type": "code",
   "execution_count": 5,
   "metadata": {},
   "outputs": [],
   "source": [
    "path = 'myData'\n",
    "testRatio = 0.2\n",
    "valRatio = 0.2\n",
    "imageDimensions= (32,32,3)"
   ]
  },
  {
   "cell_type": "code",
   "execution_count": 6,
   "metadata": {},
   "outputs": [
    {
     "name": "stdout",
     "output_type": "stream",
     "text": [
      "Total No of Classes Detected 10\n",
      "Importing Classes ......\n",
      "0 1 2 3 4 5 6 7 8 9  \n"
     ]
    }
   ],
   "source": [
    "images = []\n",
    "classNo = []\n",
    "myList = os.listdir(path)\n",
    "print(\"Total No of Classes Detected\", len(myList))\n",
    "noOfClasses = len(myList)\n",
    "print(\"Importing Classes ......\")\n",
    "for x in range(0, noOfClasses):\n",
    "    myPicList = os.listdir(path + \"/\" + str(x))\n",
    "    for y in myPicList:\n",
    "        curImg = cv2.imread(path + \"/\" + str(x) + \"/\" + y)\n",
    "        curImg = cv2.resize(curImg, (imageDimensions[0], imageDimensions[1]))\n",
    "        images.append(curImg)\n",
    "        classNo.append(x)\n",
    "    print(x, end=\" \")\n",
    "print(\" \")"
   ]
  },
  {
   "cell_type": "code",
   "execution_count": 7,
   "metadata": {},
   "outputs": [
    {
     "name": "stdout",
     "output_type": "stream",
     "text": [
      "(10423, 32, 32, 3)\n"
     ]
    }
   ],
   "source": [
    "images = np.array(images)\n",
    "classNo = np.array(classNo)\n",
    "print(images.shape)"
   ]
  },
  {
   "cell_type": "code",
   "execution_count": 53,
   "metadata": {},
   "outputs": [
    {
     "name": "stdout",
     "output_type": "stream",
     "text": [
      "(6670, 32, 32, 3)\n",
      "(2085, 32, 32, 3)\n",
      "(1668, 32, 32, 3)\n"
     ]
    }
   ],
   "source": [
    "X_train,X_test,y_train,y_test = train_test_split(images,classNo,test_size=testRatio)\n",
    "X_train,X_validation,y_train,y_validation = train_test_split(X_train,y_train,test_size=valRatio)\n",
    "print(X_train.shape)\n",
    "print(X_test.shape)\n",
    "print(X_validation.shape)"
   ]
  },
  {
   "cell_type": "code",
   "execution_count": 54,
   "metadata": {},
   "outputs": [
    {
     "name": "stdout",
     "output_type": "stream",
     "text": [
      "[630, 658, 679, 652, 668, 681, 677, 678, 684, 663]\n"
     ]
    }
   ],
   "source": [
    "numOfSamples= []\n",
    "for x in range(0,noOfClasses):\n",
    "    # print(len(np.where(y_train==x)[0]))\n",
    "    numOfSamples.append(len(np.where(y_train==x)[0]))\n",
    "\n",
    "print(numOfSamples)"
   ]
  },
  {
   "cell_type": "code",
   "execution_count": 55,
   "metadata": {},
   "outputs": [],
   "source": [
    "X_train= np.array(list(map(preProcessing,X_train)))\n",
    "X_test= np.array(list(map(preProcessing,X_test)))\n",
    "X_validation= np.array(list(map(preProcessing,X_validation)))"
   ]
  },
  {
   "cell_type": "code",
   "execution_count": 56,
   "metadata": {},
   "outputs": [],
   "source": [
    "X_train = X_train.reshape(X_train.shape[0],X_train.shape[1],X_train.shape[2])\n",
    "X_test = X_test.reshape(X_test.shape[0],X_test.shape[1],X_test.shape[2])\n",
    "X_validation = X_validation.reshape(X_validation.shape[0],X_validation.shape[1],X_validation.shape[2])"
   ]
  },
  {
   "cell_type": "code",
   "execution_count": 102,
   "metadata": {},
   "outputs": [
    {
     "data": {
      "text/plain": [
       "(6670, 32, 32)"
      ]
     },
     "execution_count": 102,
     "metadata": {},
     "output_type": "execute_result"
    }
   ],
   "source": [
    "X_train.shape"
   ]
  },
  {
   "cell_type": "code",
   "execution_count": 117,
   "metadata": {},
   "outputs": [],
   "source": [
    "y_train1 = y_train[0:100]"
   ]
  },
  {
   "cell_type": "code",
   "execution_count": 164,
   "metadata": {},
   "outputs": [],
   "source": [
    "fd_X_train = extract(X_train, y_train)\n",
    "fd_X_test = extract(X_test, y_test)\n",
    "fd_X_validation = extract(X_validation, y_validation)"
   ]
  },
  {
   "cell_type": "code",
   "execution_count": 165,
   "metadata": {},
   "outputs": [
    {
     "data": {
      "text/plain": [
       "(6670, 16)"
      ]
     },
     "execution_count": 165,
     "metadata": {},
     "output_type": "execute_result"
    }
   ],
   "source": [
    "fd_X_train.shape"
   ]
  },
  {
   "cell_type": "code",
   "execution_count": 166,
   "metadata": {},
   "outputs": [],
   "source": [
    "y_train1 = np.array(y_train)"
   ]
  },
  {
   "cell_type": "code",
   "execution_count": 167,
   "metadata": {},
   "outputs": [],
   "source": [
    "fd_x = np.array(fd_X_train)"
   ]
  },
  {
   "cell_type": "code",
   "execution_count": 173,
   "metadata": {},
   "outputs": [],
   "source": [
    "fd_x[fd_x !=  fd_x] = 0."
   ]
  },
  {
   "cell_type": "code",
   "execution_count": 174,
   "metadata": {},
   "outputs": [],
   "source": [
    "from sklearn.ensemble import RandomForestClassifier"
   ]
  },
  {
   "cell_type": "code",
   "execution_count": 176,
   "metadata": {},
   "outputs": [],
   "source": [
    "clf = RandomForestClassifier(n_estimators = 100, verbose = 1)"
   ]
  },
  {
   "cell_type": "code",
   "execution_count": 177,
   "metadata": {},
   "outputs": [
    {
     "name": "stderr",
     "output_type": "stream",
     "text": [
      "[Parallel(n_jobs=1)]: Using backend SequentialBackend with 1 concurrent workers.\n",
      "[Parallel(n_jobs=1)]: Done 100 out of 100 | elapsed:    1.1s finished\n"
     ]
    },
    {
     "data": {
      "text/plain": [
       "RandomForestClassifier(verbose=1)"
      ]
     },
     "execution_count": 177,
     "metadata": {},
     "output_type": "execute_result"
    }
   ],
   "source": [
    "clf.fit(fd_x, y_train1)"
   ]
  },
  {
   "cell_type": "code",
   "execution_count": 178,
   "metadata": {},
   "outputs": [
    {
     "name": "stdout",
     "output_type": "stream",
     "text": [
      "0.8925659472422063\n"
     ]
    },
    {
     "name": "stderr",
     "output_type": "stream",
     "text": [
      "[Parallel(n_jobs=1)]: Using backend SequentialBackend with 1 concurrent workers.\n",
      "[Parallel(n_jobs=1)]: Done 100 out of 100 | elapsed:    0.0s finished\n"
     ]
    }
   ],
   "source": [
    "predicted = clf.predict(fd_X_test)\n",
    "expected = y_test\n",
    "print(accuracy_score(expected,predicted))"
   ]
  },
  {
   "cell_type": "code",
   "execution_count": 113,
   "metadata": {},
   "outputs": [
    {
     "data": {
      "text/plain": [
       "array([], dtype=float64)"
      ]
     },
     "execution_count": 113,
     "metadata": {},
     "output_type": "execute_result"
    }
   ],
   "source": [
    "fd_X_train[0][fd_X_train[0] != fd_X_train[0]]"
   ]
  },
  {
   "cell_type": "code",
   "execution_count": null,
   "metadata": {},
   "outputs": [],
   "source": []
  }
 ],
 "metadata": {
  "kernelspec": {
   "display_name": "Python 3",
   "language": "python",
   "name": "python3"
  },
  "language_info": {
   "codemirror_mode": {
    "name": "ipython",
    "version": 3
   },
   "file_extension": ".py",
   "mimetype": "text/x-python",
   "name": "python",
   "nbconvert_exporter": "python",
   "pygments_lexer": "ipython3",
   "version": "3.8.3"
  }
 },
 "nbformat": 4,
 "nbformat_minor": 4
}
