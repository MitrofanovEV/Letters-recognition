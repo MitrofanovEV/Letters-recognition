{
 "cells": [
  {
   "cell_type": "code",
   "execution_count": 20,
   "metadata": {},
   "outputs": [],
   "source": [
    "import cv2\n",
    "import joblib\n",
    "from skimage.feature import hog\n",
    "import numpy as np\n",
    "import imutils\n",
    "import skimage.measure\n",
    "from skimage.morphology import opening\n",
    "from skimage.morphology import erosion\n",
    "from matplotlib import pyplot as plt\n",
    "from skimage.morphology import skeletonize\n",
    "from skimage.util import invert\n"
   ]
  },
  {
   "cell_type": "code",
   "execution_count": 39,
   "metadata": {},
   "outputs": [],
   "source": [
    "def dfs(img, mask, i, j):\n",
    "    if i < 0 or j < 0 or i > 31 or j > 31 or mask[i,j] < 0.5 or img[i,j] < 0.5:\n",
    "        return\n",
    "    mask[i,j] = 0\n",
    "    dfs(img, mask, i+1, j)\n",
    "    dfs(img, mask, i, j+1)\n",
    "    dfs(img, mask, i-1, j)\n",
    "    dfs(img, mask, i, j-1)\n",
    "    return\n",
    "\n",
    "def cnt(mask):\n",
    "    x1 = np.sum(mask[0:16, :])\n",
    "    x2 = np.sum(mask[16:32,:])\n",
    "    return x1 / (32.*16), x2 / (32.*16)\n",
    "\n",
    "def count_neighbours(i,j,mat):\n",
    "    m = mat.copy()\n",
    "    m = m[i-1:i+2,j-1:j+2]\n",
    "    kern = np.array([[1,1,1],[1,0,1],[1,1,1]])\n",
    "    prod = sum(sum(m*kern))\n",
    "    return prod\n",
    "def find_highest_dot(skel):\n",
    "    m = skel.copy()\n",
    "    for i in range(m.shape[0]):\n",
    "        for j in range(m.shape[1]):\n",
    "            if m[i][j] == 1:\n",
    "                return j\n",
    "def find_lowest_dot(skel):\n",
    "    m = skel.copy()\n",
    "    for i in range(m.shape[0]-1,-1,-1):\n",
    "        for j in range(m.shape[1]):\n",
    "            if m[i][j] == 1:\n",
    "                return j\n",
    "def find_left_dot(skel):\n",
    "    m = skel.copy()\n",
    "    for j in range(m.shape[1]):\n",
    "        for i in range(m.shape[0]):\n",
    "            if m[i][j] == 1:\n",
    "                return i\n",
    "def find_right_dot(skel):\n",
    "    m = skel.copy()\n",
    "    for j in range(m.shape[1]-1,-1,-1):\n",
    "        for i in range(m.shape[0]):\n",
    "            if m[i][j] == 1:\n",
    "                return i"
   ]
  },
  {
   "cell_type": "code",
   "execution_count": 103,
   "metadata": {},
   "outputs": [],
   "source": [
    "def getLetter(nbr):\n",
    "    if nbr == 0:\n",
    "        letter = 'a'\n",
    "    elif nbr == 1:\n",
    "        letter = 'b'\n",
    "    elif nbr == 2:\n",
    "        letter = 'c'\n",
    "    elif nbr == 3:\n",
    "        letter = 'd'\n",
    "    elif nbr == 4:\n",
    "        letter = 'e'\n",
    "    elif nbr == 5:\n",
    "        letter = 'f'\n",
    "    elif nbr == 6:\n",
    "        letter = 'h'\n",
    "    elif nbr == 7:\n",
    "        letter = 'j'\n",
    "    elif nbr == 8:\n",
    "        letter = 'k'\n",
    "    elif nbr == 9:\n",
    "        letter = 'l'\n",
    "    return letter\n",
    "\n",
    "\n",
    "\n",
    "def preProcessing(img):\n",
    "    img = cv2.cvtColor(img, cv2.COLOR_BGR2GRAY)\n",
    "    img = cv2.equalizeHist(img)\n",
    "    img[img <= imthr] = 0\n",
    "    img[img > imthr] = 1\n",
    "    img[:, 31:32] = 1\n",
    "    img[31:32, :] = 1\n",
    "    img[0:1, :] = 1\n",
    "    img[:, 0:5] = 1\n",
    "    img = np.ones((32,32)) - img\n",
    "    img = cv2.morphologyEx(img, cv2.MORPH_OPEN, (3, 3), iterations = 1)\n",
    "    img = cv2.morphologyEx(img, cv2.MORPH_OPEN, (4, 4), iterations = 1)\n",
    "    img = cv2.morphologyEx(img, cv2.MORPH_OPEN, (10, 10), iterations = 1)\n",
    "    img = np.ones((32,32)) - img\n",
    "    #img = img / 255.\n",
    "    return img\n",
    "\n",
    "\n",
    "def get_feature(img):\n",
    "    cn = np.zeros(9, dtype=float)\n",
    "    inv_img = invert(img)\n",
    "    square = sum(sum(inv_img))\n",
    "    skeleton = skeletonize(inv_img).astype('float64')\n",
    "    for i in range(1,skeleton.shape[0]-1):\n",
    "        for j in range(1, skeleton.shape[1] - 1):\n",
    "            if skeleton[i][j] == 1:\n",
    "                count_n = count_neighbours(i,j,skeleton)\n",
    "                cn[int(count_n)] +=1\n",
    "    #количество точек с числом соседей\n",
    "    #print(img.shape)\n",
    "    skel_length = sum(sum(skeleton))\n",
    "    # b или d (самая верхняя точка ближе к правому или левому краю)\n",
    "    coor_x_h = find_highest_dot(skeleton)\n",
    "    coor_x_l = find_lowest_dot(skeleton)\n",
    "    coor_y_r = find_right_dot(skeleton)\n",
    "    coor_y_l = find_left_dot(skeleton)\n",
    "    #отношение площали к длине\n",
    "    if (skel_length > 1e-3):\n",
    "        sq_len = square/skel_length\n",
    "    else:\n",
    "        sq_len = 0\n",
    "    feature_vector = np.array([coor_x_h,coor_x_l,coor_y_r,coor_y_l,int(10*sq_len)], dtype=float)\n",
    "    feature_vector = np.append(feature_vector,cn)\n",
    "    feature_vector = feature_vector / (32.*32)\n",
    "    mask = np.ones((32,32), dtype = float)\n",
    "    dfs(img,mask,0,0)         \n",
    "    mask[img < 0.5] = 0\n",
    "    x1, x2 = cnt(mask)\n",
    "    feature_vector = np.append(feature_vector, float(x1))\n",
    "    feature_vector = np.append(feature_vector, float(x2))\n",
    "    return feature_vector\n",
    "\n",
    "def extract(features, Y):\n",
    "    list_fd = []\n",
    "    del_ind = list()\n",
    "    #clf = RandomForestClassifier(n_estimators = 100, max_depth=16, verbose = 1)\n",
    "    for feature in features:\n",
    "        img = feature.reshape((32, 32))\n",
    "        fd = get_feature(img)\n",
    "        list_fd.append(fd)\n",
    "    return np.array(list_fd, dtype=float)"
   ]
  },
  {
   "cell_type": "code",
   "execution_count": 94,
   "metadata": {},
   "outputs": [],
   "source": [
    "width = 640\n",
    "height = 480\n",
    "threshold = 0.1\n",
    "imthr = 50"
   ]
  },
  {
   "cell_type": "code",
   "execution_count": 104,
   "metadata": {},
   "outputs": [],
   "source": [
    "model = joblib.load(\"model_RF.pkl\")\n",
    "imgOriginal = cv2.imread(\"12.jpg\")\n",
    "img_cp = np.array(imgOriginal)\n",
    "gray = cv2.cvtColor(imgOriginal, cv2.COLOR_BGR2GRAY)\n",
    "blur = cv2.medianBlur(gray, 5)\n",
    "thresh = cv2.adaptiveThreshold(blur,255,cv2.ADAPTIVE_THRESH_GAUSSIAN_C,cv2.THRESH_BINARY_INV,11,8)\n",
    "\n",
    "kernel = cv2.getStructuringElement(cv2.MORPH_RECT, (2,5))\n",
    "dilate = cv2.dilate(thresh, kernel, iterations=10)\n",
    "\n",
    "cnts = cv2.findContours(dilate, cv2.RETR_EXTERNAL, cv2.CHAIN_APPROX_SIMPLE)\n",
    "\n",
    "cnts = cnts[0] if len(cnts) == 2 else cnts[1]"
   ]
  },
  {
   "cell_type": "code",
   "execution_count": 105,
   "metadata": {},
   "outputs": [
    {
     "name": "stderr",
     "output_type": "stream",
     "text": [
      "[Parallel(n_jobs=1)]: Using backend SequentialBackend with 1 concurrent workers.\n",
      "[Parallel(n_jobs=1)]: Done 200 out of 200 | elapsed:    0.0s finished\n",
      "[Parallel(n_jobs=1)]: Using backend SequentialBackend with 1 concurrent workers.\n",
      "[Parallel(n_jobs=1)]: Done 200 out of 200 | elapsed:    0.0s finished\n",
      "[Parallel(n_jobs=1)]: Using backend SequentialBackend with 1 concurrent workers.\n",
      "[Parallel(n_jobs=1)]: Done 200 out of 200 | elapsed:    0.0s finished\n",
      "[Parallel(n_jobs=1)]: Using backend SequentialBackend with 1 concurrent workers.\n",
      "[Parallel(n_jobs=1)]: Done 200 out of 200 | elapsed:    0.0s finished\n",
      "[Parallel(n_jobs=1)]: Using backend SequentialBackend with 1 concurrent workers.\n",
      "[Parallel(n_jobs=1)]: Done 200 out of 200 | elapsed:    0.0s finished\n",
      "[Parallel(n_jobs=1)]: Using backend SequentialBackend with 1 concurrent workers.\n",
      "[Parallel(n_jobs=1)]: Done 200 out of 200 | elapsed:    0.0s finished\n",
      "[Parallel(n_jobs=1)]: Using backend SequentialBackend with 1 concurrent workers.\n",
      "[Parallel(n_jobs=1)]: Done 200 out of 200 | elapsed:    0.0s finished\n",
      "[Parallel(n_jobs=1)]: Using backend SequentialBackend with 1 concurrent workers.\n",
      "[Parallel(n_jobs=1)]: Done 200 out of 200 | elapsed:    0.0s finished\n",
      "[Parallel(n_jobs=1)]: Using backend SequentialBackend with 1 concurrent workers.\n",
      "[Parallel(n_jobs=1)]: Done 200 out of 200 | elapsed:    0.0s finished\n",
      "[Parallel(n_jobs=1)]: Using backend SequentialBackend with 1 concurrent workers.\n",
      "[Parallel(n_jobs=1)]: Done 200 out of 200 | elapsed:    0.0s finished\n",
      "[Parallel(n_jobs=1)]: Using backend SequentialBackend with 1 concurrent workers.\n",
      "[Parallel(n_jobs=1)]: Done 200 out of 200 | elapsed:    0.0s finished\n",
      "[Parallel(n_jobs=1)]: Using backend SequentialBackend with 1 concurrent workers.\n",
      "[Parallel(n_jobs=1)]: Done 200 out of 200 | elapsed:    0.0s finished\n",
      "[Parallel(n_jobs=1)]: Using backend SequentialBackend with 1 concurrent workers.\n",
      "[Parallel(n_jobs=1)]: Done 200 out of 200 | elapsed:    0.0s finished\n",
      "[Parallel(n_jobs=1)]: Using backend SequentialBackend with 1 concurrent workers.\n",
      "[Parallel(n_jobs=1)]: Done 200 out of 200 | elapsed:    0.0s finished\n",
      "[Parallel(n_jobs=1)]: Using backend SequentialBackend with 1 concurrent workers.\n",
      "[Parallel(n_jobs=1)]: Done 200 out of 200 | elapsed:    0.0s finished\n",
      "[Parallel(n_jobs=1)]: Using backend SequentialBackend with 1 concurrent workers.\n",
      "[Parallel(n_jobs=1)]: Done 200 out of 200 | elapsed:    0.0s finished\n",
      "[Parallel(n_jobs=1)]: Using backend SequentialBackend with 1 concurrent workers.\n",
      "[Parallel(n_jobs=1)]: Done 200 out of 200 | elapsed:    0.0s finished\n",
      "[Parallel(n_jobs=1)]: Using backend SequentialBackend with 1 concurrent workers.\n",
      "[Parallel(n_jobs=1)]: Done 200 out of 200 | elapsed:    0.0s finished\n",
      "[Parallel(n_jobs=1)]: Using backend SequentialBackend with 1 concurrent workers.\n",
      "[Parallel(n_jobs=1)]: Done 200 out of 200 | elapsed:    0.0s finished\n",
      "[Parallel(n_jobs=1)]: Using backend SequentialBackend with 1 concurrent workers.\n",
      "[Parallel(n_jobs=1)]: Done 200 out of 200 | elapsed:    0.0s finished\n",
      "[Parallel(n_jobs=1)]: Using backend SequentialBackend with 1 concurrent workers.\n",
      "[Parallel(n_jobs=1)]: Done 200 out of 200 | elapsed:    0.0s finished\n",
      "[Parallel(n_jobs=1)]: Using backend SequentialBackend with 1 concurrent workers.\n",
      "[Parallel(n_jobs=1)]: Done 200 out of 200 | elapsed:    0.0s finished\n",
      "[Parallel(n_jobs=1)]: Using backend SequentialBackend with 1 concurrent workers.\n",
      "[Parallel(n_jobs=1)]: Done 200 out of 200 | elapsed:    0.0s finished\n",
      "[Parallel(n_jobs=1)]: Using backend SequentialBackend with 1 concurrent workers.\n",
      "[Parallel(n_jobs=1)]: Done 200 out of 200 | elapsed:    0.0s finished\n",
      "[Parallel(n_jobs=1)]: Using backend SequentialBackend with 1 concurrent workers.\n",
      "[Parallel(n_jobs=1)]: Done 200 out of 200 | elapsed:    0.0s finished\n",
      "[Parallel(n_jobs=1)]: Using backend SequentialBackend with 1 concurrent workers.\n",
      "[Parallel(n_jobs=1)]: Done 200 out of 200 | elapsed:    0.0s finished\n",
      "[Parallel(n_jobs=1)]: Using backend SequentialBackend with 1 concurrent workers.\n",
      "[Parallel(n_jobs=1)]: Done 200 out of 200 | elapsed:    0.0s finished\n",
      "[Parallel(n_jobs=1)]: Using backend SequentialBackend with 1 concurrent workers.\n",
      "[Parallel(n_jobs=1)]: Done 200 out of 200 | elapsed:    0.0s finished\n"
     ]
    },
    {
     "data": {
      "text/plain": [
       "-1"
      ]
     },
     "execution_count": 105,
     "metadata": {},
     "output_type": "execute_result"
    },
    {
     "data": {
      "image/png": "[encoded data removed]",
      "text/plain": [
       "<Figure size 432x288 with 1 Axes>"
      ]
     },
     "metadata": {
      "needs_background": "light"
     },
     "output_type": "display_data"
    },
    {
     "data": {
      "image/png": "[encoded data removed]",
      "text/plain": [
       "<Figure size 432x288 with 1 Axes>"
      ]
     },
     "metadata": {
      "needs_background": "light"
     },
     "output_type": "display_data"
    },
    {
     "data": {
      "image/png": "[encoded data removed]",
      "text/plain": [
       "<Figure size 432x288 with 1 Axes>"
      ]
     },
     "metadata": {
      "needs_background": "light"
     },
     "output_type": "display_data"
    },
    {
     "data": {
      "image/png": "[encoded data removed]",
      "text/plain": [
       "<Figure size 432x288 with 1 Axes>"
      ]
     },
     "metadata": {
      "needs_background": "light"
     },
     "output_type": "display_data"
    },
    {
     "data": {
      "image/png": "[encoded data removed]",
      "text/plain": [
       "<Figure size 432x288 with 1 Axes>"
      ]
     },
     "metadata": {
      "needs_background": "light"
     },
     "output_type": "display_data"
    },
    {
     "data": {
      "image/png": "[encoded data removed]",
      "text/plain": [
       "<Figure size 432x288 with 1 Axes>"
      ]
     },
     "metadata": {
      "needs_background": "light"
     },
     "output_type": "display_data"
    },
    {
     "data": {
      "image/png": "[encoded data removed]",
      "text/plain": [
       "<Figure size 432x288 with 1 Axes>"
      ]
     },
     "metadata": {
      "needs_background": "light"
     },
     "output_type": "display_data"
    },
    {
     "data": {
      "image/png": "[encoded data removed]",
      "text/plain": [
       "<Figure size 432x288 with 1 Axes>"
      ]
     },
     "metadata": {
      "needs_background": "light"
     },
     "output_type": "display_data"
    },
    {
     "data": {
      "image/png": "[encoded data removed]",
      "text/plain": [
       "<Figure size 432x288 with 1 Axes>"
      ]
     },
     "metadata": {
      "needs_background": "light"
     },
     "output_type": "display_data"
    },
    {
     "data": {
      "image/png": "[encoded data removed]",
      "text/plain": [
       "<Figure size 432x288 with 1 Axes>"
      ]
     },
     "metadata": {
      "needs_background": "light"
     },
     "output_type": "display_data"
    },
    {
     "data": {
      "image/png": "[encoded data removed]",
      "text/plain": [
       "<Figure size 432x288 with 1 Axes>"
      ]
     },
     "metadata": {
      "needs_background": "light"
     },
     "output_type": "display_data"
    },
    {
     "data": {
      "image/png": "[encoded data removed]",
      "text/plain": [
       "<Figure size 432x288 with 1 Axes>"
      ]
     },
     "metadata": {
      "needs_background": "light"
     },
     "output_type": "display_data"
    },
    {
     "data": {
      "image/png": "[encoded data removed]",
      "text/plain": [
       "<Figure size 432x288 with 1 Axes>"
      ]
     },
     "metadata": {
      "needs_background": "light"
     },
     "output_type": "display_data"
    },
    {
     "data": {
      "image/png": "[encoded data removed]",
      "text/plain": [
       "<Figure size 432x288 with 1 Axes>"
      ]
     },
     "metadata": {
      "needs_background": "light"
     },
     "output_type": "display_data"
    }
   ],
   "source": [
    "for c in cnts:\n",
    "    area = cv2.contourArea(c)\n",
    "    if area > 1000 and area < 100000:\n",
    "        x,y,w,h = cv2.boundingRect(c)\n",
    "\n",
    "        if x > 10:\n",
    "            x -= 20\n",
    "        if y > 10:\n",
    "            y + 5\n",
    "        w += 20\n",
    "        h += 40\n",
    "\n",
    "        ROI = img_cp[y:y+h, x:x+w]\n",
    "\n",
    "        img = np.array(ROI)\n",
    "        \n",
    "        img = cv2.resize(img, (32, 32))\n",
    "        img = preProcessing(img)\n",
    "        \n",
    "        img = img.reshape(1, 32, 32, 1)\n",
    "        roi = cv2.resize(ROI, (32, 32), interpolation=cv2.INTER_AREA)\n",
    "        roi=preProcessing(roi)\n",
    "        arr = get_feature(roi)\n",
    "        plt.figure()\n",
    "        plt.imshow(roi)\n",
    "        plt.draw()\n",
    "        \n",
    "        roi_hog_fd = get_feature(roi)\n",
    "        classIndex = model.predict(np.array([roi_hog_fd], 'float64'))\n",
    "        probVal = np.amax(model.predict_proba(np.array([roi_hog_fd], 'float64')))\n",
    "        if probVal > threshold:\n",
    "            cv2.rectangle(imgOriginal, (x, y), (x + w, y + h), (0, 0, 255), 3)\n",
    "            cv2.putText(imgOriginal, getLetter(classIndex) + \" \" + str(round(probVal, 2)), (x, y+10), cv2.FONT_HERSHEY_DUPLEX, 1, (0, 255, 255), 2)\n",
    "        else:\n",
    "            cv2.rectangle(imgOriginal, (x, y), (x + w, y + h), (0, 0, 255), 3)\n",
    "            cv2.putText(imgOriginal,\"-\", (x, y), cv2.FONT_HERSHEY_DUPLEX, 2, (0, 255, 255), 3)\n",
    "cv2.imwrite('res2.jpg', imgOriginal)\n",
    "cv2.namedWindow(\"Resulting Image with Rectangular ROIs\", cv2.WINDOW_NORMAL)\n",
    "cv2.imshow(\"Resulting Image with Rectangular ROIs\", imgOriginal)\n",
    "cv2.waitKey()"
   ]
  },
  {
   "cell_type": "code",
   "execution_count": null,
   "metadata": {},
   "outputs": [],
   "source": []
  },
  {
   "cell_type": "code",
   "execution_count": null,
   "metadata": {},
   "outputs": [],
   "source": []
  }
 ],
 "metadata": {
  "kernelspec": {
   "display_name": "Python 3",
   "language": "python",
   "name": "python3"
  },
  "language_info": {
   "codemirror_mode": {
    "name": "ipython",
    "version": 3
   },
   "file_extension": ".py",
   "mimetype": "text/x-python",
   "name": "python",
   "nbconvert_exporter": "python",
   "pygments_lexer": "ipython3",
   "version": "3.8.3"
  }
 },
 "nbformat": 4,
 "nbformat_minor": 4
}
