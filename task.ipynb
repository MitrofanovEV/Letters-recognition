{
 "cells": [
  {
   "cell_type": "code",
   "execution_count": 209,
   "id": "posted-creature",
   "metadata": {},
   "outputs": [],
   "source": [
    "import numpy as np\n",
    "import random as rand\n",
    "from random import shuffle"
   ]
  },
  {
   "cell_type": "code",
   "execution_count": 99,
   "id": "posted-thong",
   "metadata": {},
   "outputs": [],
   "source": [
    "diff = np.zeros(1000, dtype = int)\n",
    "time = np.zeros(1000, dtype = int)\n",
    "workers = np.zeros((10,4),dtype=int)\n"
   ]
  },
  {
   "cell_type": "code",
   "execution_count": 100,
   "id": "developed-nerve",
   "metadata": {},
   "outputs": [],
   "source": [
    "with open('input.txt','r') as file:\n",
    "    lines = file.readlines()\n",
    "    diff = np.array(lines[1].split(), dtype=int)\n",
    "    time = np.array(lines[2].split(), dtype=float)\n",
    "    workers = np.zeros((10,4),dtype=float)\n",
    "    for i in range(10):\n",
    "        workers[i] = np.array(lines[4+i].split(),dtype=float)"
   ]
  },
  {
   "cell_type": "code",
   "execution_count": 180,
   "id": "opposite-while",
   "metadata": {},
   "outputs": [],
   "source": [
    "def res(a):\n",
    "    time_w = np.zeros(10)\n",
    "    for i in range(1000):\n",
    "        time_w[a[i]] += time[i] * workers[a[i], diff[i]-1]\n",
    "    return np.max(time_w)"
   ]
  },
  {
   "cell_type": "code",
   "execution_count": 267,
   "id": "behind-moses",
   "metadata": {},
   "outputs": [],
   "source": [
    "def gen_seq():\n",
    "    return [rand.randint(0,9) for i in range(1000)]\n",
    "\n",
    "def cross(a, b):\n",
    "    c = list()\n",
    "    for i in range(1000):\n",
    "        c.append((a[i]+b[i])%10)\n",
    "    return c\n",
    "\n",
    "def cross_opt(a, b):\n",
    "    c = list()\n",
    "    time_w = np.zeros(10)\n",
    "    for i in range(1000):\n",
    "        if time_w[a[i]] + time[i] * workers[a[i], diff[i]-1] < time_w[b[i]] + time[i] * workers[b[i], diff[i]-1]:\n",
    "            c.append(a[i])\n",
    "            time_w[a[i]] += time[i] * workers[a[i], diff[i]-1]\n",
    "        else:\n",
    "            c.append(b[i])\n",
    "            time_w[b[i]] += time[i] * workers[b[i], diff[i]-1]\n",
    "    return c\n",
    "\n",
    "def mutation_rand(a):\n",
    "    #n = rand.randint(1,10)\n",
    "    for i in range(10):\n",
    "        n1 = rand.randint(0,999)\n",
    "        n2 = rand.randint(0,9)\n",
    "        a[n1] = n2\n",
    "    return a\n",
    "\n",
    "def mutation_impr(a):\n",
    "    time_w = np.zeros(10)\n",
    "    mins = np.zeros(10)\n",
    "    mins.fill(999.)\n",
    "    ind = np.zeros(10, dtype = int)\n",
    "    for i in range(1000):\n",
    "        task = time[i] * workers[a[i], diff[i]-1]\n",
    "        time_w[a[i]] += task\n",
    "        if(task < mins[a[i]]):\n",
    "            mins[a[i]] = task\n",
    "            ind[a[i]] = i\n",
    "    b = list(a)\n",
    "    a[ind[np.argmax(time_w)]] = np.argmin(time_w)\n",
    "    if res(b) > res(a):\n",
    "        return a\n",
    "    else:\n",
    "        return b"
   ]
  },
  {
   "cell_type": "code",
   "execution_count": 382,
   "id": "unsigned-basketball",
   "metadata": {},
   "outputs": [],
   "source": [
    "initial = 100000\n",
    "birth = 50000\n",
    "death = 51000\n",
    "epochs = 100\n",
    "mutation_p = 0.2\n",
    "best1 = list()\n",
    "sol = list()\n",
    "min_sc = 99999999"
   ]
  },
  {
   "cell_type": "code",
   "execution_count": null,
   "id": "active-monroe",
   "metadata": {},
   "outputs": [
    {
     "name": "stdout",
     "output_type": "stream",
     "text": [
      "Epoch: [1/100], Worst_val: [1142.175], Best_val: [599.685], Score: [1667.5421262829655]\n",
      "Epoch: [2/100], Worst_val: [1141.93], Best_val: [597.39], Score: [1673.9483419541673]\n",
      "Epoch: [3/100], Worst_val: [1141.44], Best_val: [596.7700000000004], Score: [1675.68745077668]\n",
      "Epoch: [4/100], Worst_val: [1141.44], Best_val: [594.15], Score: [1683.0766641420516]\n",
      "Epoch: [5/100], Worst_val: [1113.5400000000002], Best_val: [591.5850000000003], Score: [1690.3741643212718]\n",
      "Epoch: [6/100], Worst_val: [1113.5400000000002], Best_val: [591.145], Score: [1691.632340627088]\n",
      "Epoch: [7/100], Worst_val: [1069.6450000000004], Best_val: [590.1550000000003], Score: [1694.4700968389652]\n",
      "Epoch: [8/100], Worst_val: [1069.1050000000005], Best_val: [589.0499999999997], Score: [1697.6487564722868]\n",
      "Epoch: [9/100], Worst_val: [1069.1050000000005], Best_val: [587.6350000000003], Score: [1701.7366222229775]\n",
      "Epoch: [10/100], Worst_val: [958.7249999999998], Best_val: [586.595], Score: [1704.7537057083678]\n",
      "Epoch: [11/100], Worst_val: [929.9599999999997], Best_val: [585.1599999999999], Score: [1708.9343085651792]\n",
      "Epoch: [12/100], Worst_val: [899.3850000000006], Best_val: [584.4600000000004], Score: [1710.9810765492923]\n",
      "Epoch: [13/100], Worst_val: [809.4000000000004], Best_val: [584.4600000000004], Score: [1710.9810765492923]\n",
      "Epoch: [14/100], Worst_val: [774.5500000000005], Best_val: [583.3399999999998], Score: [1714.2661226728844]\n",
      "Epoch: [15/100], Worst_val: [772.5599999999996], Best_val: [582.3150000000002], Score: [1717.2836008002537]\n",
      "Epoch: [16/100], Worst_val: [609.9149999999998], Best_val: [582.2149999999999], Score: [1717.5785577492852]\n",
      "Epoch: [17/100], Worst_val: [608.7350000000001], Best_val: [580.5549999999998], Score: [1722.489686593002]\n",
      "Epoch: [18/100], Worst_val: [607.7850000000001], Best_val: [580.18], Score: [1723.6030197524908]\n",
      "Epoch: [19/100], Worst_val: [606.0899999999998], Best_val: [580.18], Score: [1723.6030197524908]\n",
      "Epoch: [20/100], Worst_val: [605.5649999999998], Best_val: [580.18], Score: [1723.6030197524908]\n",
      "Epoch: [21/100], Worst_val: [606.0650000000004], Best_val: [579.5849999999999], Score: [1725.372464780835]\n",
      "Epoch: [22/100], Worst_val: [605.545], Best_val: [579.0849999999998], Score: [1726.8622050303502]\n",
      "Epoch: [23/100], Worst_val: [602.175], Best_val: [578.7549999999998], Score: [1727.8468436557791]\n",
      "Epoch: [24/100], Worst_val: [601.3200000000002], Best_val: [578.0849999999999], Score: [1729.8494166082844]\n",
      "Epoch: [25/100], Worst_val: [602.2200000000001], Best_val: [578.0849999999999], Score: [1729.8494166082844]\n",
      "Epoch: [26/100], Worst_val: [602.4800000000002], Best_val: [577.685], Score: [1731.0471970018264]\n",
      "Epoch: [27/100], Worst_val: [601.795], Best_val: [577.685], Score: [1731.0471970018264]\n",
      "Epoch: [28/100], Worst_val: [604.165], Best_val: [577.5900000000004], Score: [1731.331913641163]\n",
      "Epoch: [29/100], Worst_val: [604.8800000000003], Best_val: [577.1050000000001], Score: [1732.7869278554158]\n",
      "Epoch: [30/100], Worst_val: [603.995], Best_val: [576.5250000000002], Score: [1734.5301591431414]\n",
      "Epoch: [31/100], Worst_val: [603.4200000000001], Best_val: [576.2750000000001], Score: [1735.2826341590385]\n",
      "Epoch: [32/100], Worst_val: [600.0550000000001], Best_val: [575.9850000000004], Score: [1736.1563235153683]\n",
      "Epoch: [33/100], Worst_val: [600.7150000000003], Best_val: [575.6550000000001], Score: [1737.1515925337221]\n",
      "Epoch: [34/100], Worst_val: [600.645], Best_val: [575.6550000000001], Score: [1737.1515925337221]\n",
      "Epoch: [35/100], Worst_val: [600.8000000000001], Best_val: [575.6550000000001], Score: [1737.1515925337221]\n",
      "Epoch: [36/100], Worst_val: [599.3100000000002], Best_val: [575.32], Score: [1738.1631092261696]\n",
      "Epoch: [37/100], Worst_val: [600.7550000000001], Best_val: [575.32], Score: [1738.1631092261696]\n",
      "Epoch: [38/100], Worst_val: [599.6950000000002], Best_val: [575.1899999999998], Score: [1738.5559554234258]\n",
      "Epoch: [39/100], Worst_val: [599.8300000000002], Best_val: [574.9449999999998], Score: [1739.2968023028295]\n",
      "Epoch: [40/100], Worst_val: [602.335], Best_val: [574.68], Score: [1740.0988376139767]\n",
      "Epoch: [41/100], Worst_val: [599.77], Best_val: [574.68], Score: [1740.0988376139767]\n",
      "Epoch: [42/100], Worst_val: [600.9950000000001], Best_val: [574.68], Score: [1740.0988376139767]\n",
      "Epoch: [43/100], Worst_val: [598.6550000000001], Best_val: [574.68], Score: [1740.0988376139767]\n",
      "Epoch: [44/100], Worst_val: [601.6800000000001], Best_val: [574.6450000000003], Score: [1740.204822107561]\n",
      "Epoch: [45/100], Worst_val: [601.0200000000001], Best_val: [574.6450000000003], Score: [1740.204822107561]\n",
      "Epoch: [46/100], Worst_val: [600.95], Best_val: [574.5200000000002], Score: [1740.583443570284]\n",
      "Epoch: [47/100], Worst_val: [599.2], Best_val: [574.445], Score: [1740.8106955409132]\n",
      "Epoch: [48/100], Worst_val: [600.9650000000001], Best_val: [574.3000000000001], Score: [1741.250217656277]\n",
      "Epoch: [49/100], Worst_val: [599.7850000000001], Best_val: [574.0149999999999], Score: [1742.114753098787]\n",
      "Epoch: [50/100], Worst_val: [601.325], Best_val: [573.77], Score: [1742.8586367359744]\n",
      "Epoch: [51/100], Worst_val: [601.325], Best_val: [573.7249999999999], Score: [1742.9953374874724]\n",
      "Epoch: [52/100], Worst_val: [601.325], Best_val: [573.3600000000001], Score: [1744.1049253523088]\n",
      "Epoch: [53/100], Worst_val: [604.835], Best_val: [573.3600000000001], Score: [1744.1049253523088]\n",
      "Epoch: [54/100], Worst_val: [598.0250000000001], Best_val: [573.2700000000001], Score: [1744.3787395119225]\n",
      "Epoch: [55/100], Worst_val: [600.9900000000002], Best_val: [573.2700000000001], Score: [1744.3787395119225]\n",
      "Epoch: [56/100], Worst_val: [599.0650000000002], Best_val: [573.1449999999999], Score: [1744.7591796142342]\n",
      "Epoch: [57/100], Worst_val: [598.5500000000001], Best_val: [572.915], Score: [1745.4596231552675]\n",
      "Epoch: [58/100], Worst_val: [600.9600000000003], Best_val: [572.5400000000005], Score: [1746.6028574422733]\n",
      "Epoch: [59/100], Worst_val: [599.5950000000001], Best_val: [572.5400000000005], Score: [1746.6028574422733]\n",
      "Epoch: [60/100], Worst_val: [597.2300000000002], Best_val: [572.5400000000005], Score: [1746.6028574422733]\n",
      "Epoch: [61/100], Worst_val: [598.2300000000001], Best_val: [572.5400000000005], Score: [1746.6028574422733]\n",
      "Epoch: [62/100], Worst_val: [601.2450000000001], Best_val: [572.5400000000005], Score: [1746.6028574422733]\n",
      "Epoch: [63/100], Worst_val: [602.2550000000003], Best_val: [572.5400000000005], Score: [1746.6028574422733]\n",
      "Epoch: [64/100], Worst_val: [599.0600000000002], Best_val: [572.5400000000005], Score: [1746.6028574422733]\n",
      "Epoch: [65/100], Worst_val: [597.1200000000001], Best_val: [572.5400000000005], Score: [1746.6028574422733]\n",
      "Epoch: [66/100], Worst_val: [599.3950000000001], Best_val: [572.5400000000005], Score: [1746.6028574422733]\n",
      "Epoch: [67/100], Worst_val: [597.6000000000001], Best_val: [572.41], Score: [1746.9995283101275]\n",
      "Epoch: [68/100], Worst_val: [601.8300000000002], Best_val: [572.41], Score: [1746.9995283101275]\n",
      "Epoch: [69/100], Worst_val: [600.01], Best_val: [572.41], Score: [1746.9995283101275]\n",
      "Epoch: [70/100], Worst_val: [596.9950000000001], Best_val: [572.3299999999995], Score: [1747.2437230269265]\n",
      "Epoch: [71/100], Worst_val: [600.495], Best_val: [572.2950000000004], Score: [1747.3505796835536]\n",
      "Epoch: [72/100], Worst_val: [599.03], Best_val: [572.2950000000004], Score: [1747.3505796835536]\n",
      "Epoch: [73/100], Worst_val: [597.7350000000002], Best_val: [572.2749999999999], Score: [1747.4116464986243]\n",
      "Epoch: [74/100], Worst_val: [598.8200000000002], Best_val: [572.0099999999999], Score: [1748.2211849443195]\n",
      "Epoch: [75/100], Worst_val: [598.8450000000003], Best_val: [572.0099999999999], Score: [1748.2211849443195]\n",
      "Epoch: [76/100], Worst_val: [598.5700000000002], Best_val: [572.0099999999999], Score: [1748.2211849443195]\n",
      "Epoch: [77/100], Worst_val: [602.6600000000001], Best_val: [572.0099999999999], Score: [1748.2211849443195]\n",
      "Epoch: [78/100], Worst_val: [598.2900000000001], Best_val: [571.6299999999999], Score: [1749.3833423718143]\n",
      "Epoch: [79/100], Worst_val: [597.7600000000001], Best_val: [571.6299999999999], Score: [1749.3833423718143]\n",
      "Epoch: [80/100], Worst_val: [602.9050000000001], Best_val: [571.6299999999999], Score: [1749.3833423718143]\n",
      "Epoch: [81/100], Worst_val: [598.1250000000002], Best_val: [571.6299999999999], Score: [1749.3833423718143]\n",
      "Epoch: [82/100], Worst_val: [597.155], Best_val: [571.5950000000001], Score: [1749.4904609032615]\n",
      "Epoch: [83/100], Worst_val: [600.9750000000003], Best_val: [571.5950000000001], Score: [1749.4904609032615]\n"
     ]
    }
   ],
   "source": [
    "for e in range(1):\n",
    "    population = list()\n",
    "    for i in range(initial):\n",
    "        population.append(gen_seq())\n",
    "    for i in range(epochs):\n",
    "        scores = list()\n",
    "        for j in range(birth):\n",
    "            n1 = rand.randint(0,len(population)-1)\n",
    "            n2 = rand.randint(0,len(population)-1)\n",
    "            population.append(cross_opt(population[n1], population[n2]))\n",
    "        nm = int(mutation_p*len(population))\n",
    "        \n",
    "        #for j in range(nm):\n",
    "            #jj = rand.randint(0,len(population)-1)\n",
    "            #population[jj] = mutation_impr(population[jj])\n",
    "       \n",
    "        for j in range(len(population)):\n",
    "            scores.append(res(population[j]))\n",
    "        if np.min(scores) < min_sc:\n",
    "            sol = list(population[np.argmin(scores)])\n",
    "            min_sc = np.min(scores)\n",
    "            #print('Exp: [{}], Epoch: [{}/{}], Worst_val: [{}], Best_val: [{}], Score: [{}]'.format(e+1,i+1,epochs,np.max(scores),np.min(scores),1e6/np.min(scores)))\n",
    "        print('Epoch: [{}/{}], Worst_val: [{}], Best_val: [{}], Score: [{}]'.format(i+1,epochs,np.max(scores),np.min(scores),1e6/np.min(scores)))\n",
    "        for j in range(death):\n",
    "            n1 = rand.randint(0,len(population)-1)\n",
    "            n2 = rand.randint(0,len(population)-1)\n",
    "            n = n1\n",
    "            if scores[n1] < scores[n2]:\n",
    "                n = n2\n",
    "            #n = np.argmax(scores)\n",
    "            population.pop(n)\n",
    "            scores.pop(n)\n",
    "        for j in range(nm):\n",
    "            jj = rand.randint(0,len(population)-1)\n",
    "            population[jj] = mutation_rand(population[jj])\n",
    "        #mutation_p -= 5e-3\n",
    "    best1.append(population[0])\n",
    "    print('Epoch {} finished'.format(e+1))\n",
    "    "
   ]
  },
  {
   "cell_type": "code",
   "execution_count": 365,
   "id": "committed-diploma",
   "metadata": {},
   "outputs": [],
   "source": [
    "score = 1e6/res(sol)\n",
    "save = sol\n",
    "for i in range(1000):\n",
    "    sol = mutation_impr(sol)\n",
    "    t = res(sol)\n",
    "    if(1000000./t>score):\n",
    "        score = 1000000./t\n",
    "        save = sol\n",
    "        print(score)"
   ]
  },
  {
   "cell_type": "code",
   "execution_count": 362,
   "id": "silver-treaty",
   "metadata": {},
   "outputs": [],
   "source": [
    "with open('output.txt', 'w') as file:\n",
    "    for i in range(1000):\n",
    "        file.write(str(sol[i]+1)  + ' ')"
   ]
  },
  {
   "cell_type": "code",
   "execution_count": 363,
   "id": "tracked-valentine",
   "metadata": {},
   "outputs": [
    {
     "data": {
      "text/plain": [
       "570.925"
      ]
     },
     "execution_count": 363,
     "metadata": {},
     "output_type": "execute_result"
    }
   ],
   "source": [
    "res(sol)"
   ]
  },
  {
   "cell_type": "code",
   "execution_count": 262,
   "id": "incorrect-realtor",
   "metadata": {},
   "outputs": [
    {
     "name": "stdout",
     "output_type": "stream",
     "text": [
      "1212.4077812331404\n",
      "1386.0590183930024\n",
      "1414.5071856965042\n",
      "1485.144838750399\n",
      "1493.529284375444\n",
      "1494.9694278751992\n",
      "1505.4912794417644\n"
     ]
    }
   ],
   "source": [
    "score = 0\n",
    "save = list()\n",
    "all = list()\n",
    "for i in range(10000):\n",
    "    l = gen_seq()\n",
    "    t = res(l)\n",
    "    all.append(t)\n",
    "    if(1000000./t>score):\n",
    "        score = 1000000./t\n",
    "        save = l\n",
    "        print(score)"
   ]
  },
  {
   "cell_type": "code",
   "execution_count": 263,
   "id": "wound-mileage",
   "metadata": {},
   "outputs": [
    {
     "data": {
      "text/plain": [
       "(array([ 184., 1168., 2786., 2740., 1740.,  904.,  336.,  101.,   35.,\n",
       "           6.]),\n",
       " array([ 664.235,  703.948,  743.661,  783.374,  823.087,  862.8  ,\n",
       "         902.513,  942.226,  981.939, 1021.652, 1061.365]),\n",
       " <BarContainer object of 10 artists>)"
      ]
     },
     "execution_count": 263,
     "metadata": {},
     "output_type": "execute_result"
    },
    {
     "data": {
      "image/png": "[encoded data removed]",
      "text/plain": [
       "<Figure size 432x288 with 1 Axes>"
      ]
     },
     "metadata": {
      "needs_background": "light"
     },
     "output_type": "display_data"
    }
   ],
   "source": [
    "plt.hist(all)"
   ]
  },
  {
   "cell_type": "code",
   "execution_count": 260,
   "id": "instrumental-distance",
   "metadata": {},
   "outputs": [
    {
     "data": {
      "text/plain": [
       "array([1.040e+02, 5.364e+03, 4.017e+03, 4.850e+02, 2.800e+01, 2.000e+00])"
      ]
     },
     "execution_count": 260,
     "metadata": {},
     "output_type": "execute_result"
    }
   ],
   "source": [
    "counts"
   ]
  },
  {
   "cell_type": "code",
   "execution_count": null,
   "id": "underlying-official",
   "metadata": {},
   "outputs": [],
   "source": []
  }
 ],
 "metadata": {
  "kernelspec": {
   "display_name": "base",
   "language": "python",
   "name": "base"
  },
  "language_info": {
   "codemirror_mode": {
    "name": "ipython",
    "version": 3
   },
   "file_extension": ".py",
   "mimetype": "text/x-python",
   "name": "python",
   "nbconvert_exporter": "python",
   "pygments_lexer": "ipython3",
   "version": "3.8.5"
  }
 },
 "nbformat": 4,
 "nbformat_minor": 5
}
